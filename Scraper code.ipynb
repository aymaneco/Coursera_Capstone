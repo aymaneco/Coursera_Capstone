{
 "cells": [
  {
   "cell_type": "markdown",
   "metadata": {},
   "source": [
    "Let's read the read all tables present in the html website"
   ]
  },
  {
   "cell_type": "code",
   "execution_count": null,
   "metadata": {},
   "outputs": [],
   "source": [
    "import pandas as pd\n",
    "\n",
    "tables = pd.read_html('https://en.wikipedia.org/wiki/List_of_postal_codes_of_Canada:_M', header=0)"
   ]
  },
  {
   "cell_type": "markdown",
   "metadata": {},
   "source": [
    "We keep just the first table since it contains the information required."
   ]
  },
  {
   "cell_type": "code",
   "execution_count": 38,
   "metadata": {},
   "outputs": [],
   "source": [
    "data=pd.DataFrame(tables[0])"
   ]
  },
  {
   "cell_type": "markdown",
   "metadata": {},
   "source": [
    "The function below is designed to clean the data by removing the 'not assigned' borought, and convert the variable 'Neigborbooh' to the format required in this assignement !"
   ]
  },
  {
   "cell_type": "code",
   "execution_count": null,
   "metadata": {},
   "outputs": [],
   "source": [
    "def clean_data(data):\n",
    "    data=data[data['Borough']!='Not assigned'].reset_index(drop=True)\n",
    "    var=\" /\"\n",
    "    res=[]\n",
    "    for n in data['Neighborhood']:\n",
    "        if var in n:\n",
    "            res.append(n.replace(var, \",\"))\n",
    "        else:\n",
    "            res.append(n)\n",
    "    data['Neighborhood']=res\n",
    "    return data"
   ]
  },
  {
   "cell_type": "code",
   "execution_count": 36,
   "metadata": {},
   "outputs": [],
   "source": [
    "data=clean_data(data)"
   ]
  },
  {
   "cell_type": "code",
   "execution_count": 37,
   "metadata": {},
   "outputs": [
    {
     "data": {
      "text/html": [
       "<div>\n",
       "<style scoped>\n",
       "    .dataframe tbody tr th:only-of-type {\n",
       "        vertical-align: middle;\n",
       "    }\n",
       "\n",
       "    .dataframe tbody tr th {\n",
       "        vertical-align: top;\n",
       "    }\n",
       "\n",
       "    .dataframe thead th {\n",
       "        text-align: right;\n",
       "    }\n",
       "</style>\n",
       "<table border=\"1\" class=\"dataframe\">\n",
       "  <thead>\n",
       "    <tr style=\"text-align: right;\">\n",
       "      <th></th>\n",
       "      <th>Postal code</th>\n",
       "      <th>Borough</th>\n",
       "      <th>Neighborhood</th>\n",
       "    </tr>\n",
       "  </thead>\n",
       "  <tbody>\n",
       "    <tr>\n",
       "      <th>0</th>\n",
       "      <td>M3A</td>\n",
       "      <td>North York</td>\n",
       "      <td>Parkwoods</td>\n",
       "    </tr>\n",
       "    <tr>\n",
       "      <th>1</th>\n",
       "      <td>M4A</td>\n",
       "      <td>North York</td>\n",
       "      <td>Victoria Village</td>\n",
       "    </tr>\n",
       "    <tr>\n",
       "      <th>2</th>\n",
       "      <td>M5A</td>\n",
       "      <td>Downtown Toronto</td>\n",
       "      <td>Regent Park, Harbourfront</td>\n",
       "    </tr>\n",
       "    <tr>\n",
       "      <th>3</th>\n",
       "      <td>M6A</td>\n",
       "      <td>North York</td>\n",
       "      <td>Lawrence Manor, Lawrence Heights</td>\n",
       "    </tr>\n",
       "    <tr>\n",
       "      <th>4</th>\n",
       "      <td>M7A</td>\n",
       "      <td>Downtown Toronto</td>\n",
       "      <td>Queen's Park, Ontario Provincial Government</td>\n",
       "    </tr>\n",
       "  </tbody>\n",
       "</table>\n",
       "</div>"
      ],
      "text/plain": [
       "  Postal code           Borough                                 Neighborhood\n",
       "0         M3A        North York                                    Parkwoods\n",
       "1         M4A        North York                             Victoria Village\n",
       "2         M5A  Downtown Toronto                    Regent Park, Harbourfront\n",
       "3         M6A        North York             Lawrence Manor, Lawrence Heights\n",
       "4         M7A  Downtown Toronto  Queen's Park, Ontario Provincial Government"
      ]
     },
     "execution_count": 37,
     "metadata": {},
     "output_type": "execute_result"
    }
   ],
   "source": [
    "data.head()"
   ]
  },
  {
   "cell_type": "code",
   "execution_count": 30,
   "metadata": {},
   "outputs": [],
   "source": []
  },
  {
   "cell_type": "code",
   "execution_count": null,
   "metadata": {},
   "outputs": [],
   "source": []
  },
  {
   "cell_type": "code",
   "execution_count": 31,
   "metadata": {},
   "outputs": [
    {
     "data": {
      "text/html": [
       "<div>\n",
       "<style scoped>\n",
       "    .dataframe tbody tr th:only-of-type {\n",
       "        vertical-align: middle;\n",
       "    }\n",
       "\n",
       "    .dataframe tbody tr th {\n",
       "        vertical-align: top;\n",
       "    }\n",
       "\n",
       "    .dataframe thead th {\n",
       "        text-align: right;\n",
       "    }\n",
       "</style>\n",
       "<table border=\"1\" class=\"dataframe\">\n",
       "  <thead>\n",
       "    <tr style=\"text-align: right;\">\n",
       "      <th></th>\n",
       "      <th>Postal code</th>\n",
       "      <th>Borough</th>\n",
       "      <th>Neighborhood</th>\n",
       "    </tr>\n",
       "  </thead>\n",
       "  <tbody>\n",
       "    <tr>\n",
       "      <th>0</th>\n",
       "      <td>M3A</td>\n",
       "      <td>North York</td>\n",
       "      <td>Parkwoods</td>\n",
       "    </tr>\n",
       "    <tr>\n",
       "      <th>1</th>\n",
       "      <td>M4A</td>\n",
       "      <td>North York</td>\n",
       "      <td>Victoria Village</td>\n",
       "    </tr>\n",
       "    <tr>\n",
       "      <th>2</th>\n",
       "      <td>M5A</td>\n",
       "      <td>Downtown Toronto</td>\n",
       "      <td>Regent Park / Harbourfront</td>\n",
       "    </tr>\n",
       "    <tr>\n",
       "      <th>3</th>\n",
       "      <td>M6A</td>\n",
       "      <td>North York</td>\n",
       "      <td>Lawrence Manor / Lawrence Heights</td>\n",
       "    </tr>\n",
       "    <tr>\n",
       "      <th>4</th>\n",
       "      <td>M7A</td>\n",
       "      <td>Downtown Toronto</td>\n",
       "      <td>Queen's Park / Ontario Provincial Government</td>\n",
       "    </tr>\n",
       "    <tr>\n",
       "      <th>...</th>\n",
       "      <td>...</td>\n",
       "      <td>...</td>\n",
       "      <td>...</td>\n",
       "    </tr>\n",
       "    <tr>\n",
       "      <th>98</th>\n",
       "      <td>M8X</td>\n",
       "      <td>Etobicoke</td>\n",
       "      <td>The Kingsway / Montgomery Road / Old Mill North</td>\n",
       "    </tr>\n",
       "    <tr>\n",
       "      <th>99</th>\n",
       "      <td>M4Y</td>\n",
       "      <td>Downtown Toronto</td>\n",
       "      <td>Church and Wellesley</td>\n",
       "    </tr>\n",
       "    <tr>\n",
       "      <th>100</th>\n",
       "      <td>M7Y</td>\n",
       "      <td>East Toronto</td>\n",
       "      <td>Business reply mail Processing CentrE</td>\n",
       "    </tr>\n",
       "    <tr>\n",
       "      <th>101</th>\n",
       "      <td>M8Y</td>\n",
       "      <td>Etobicoke</td>\n",
       "      <td>Old Mill South / King's Mill Park / Sunnylea /...</td>\n",
       "    </tr>\n",
       "    <tr>\n",
       "      <th>102</th>\n",
       "      <td>M8Z</td>\n",
       "      <td>Etobicoke</td>\n",
       "      <td>Mimico NW / The Queensway West / South of Bloo...</td>\n",
       "    </tr>\n",
       "  </tbody>\n",
       "</table>\n",
       "<p>103 rows × 3 columns</p>\n",
       "</div>"
      ],
      "text/plain": [
       "    Postal code           Borough  \\\n",
       "0           M3A        North York   \n",
       "1           M4A        North York   \n",
       "2           M5A  Downtown Toronto   \n",
       "3           M6A        North York   \n",
       "4           M7A  Downtown Toronto   \n",
       "..          ...               ...   \n",
       "98          M8X         Etobicoke   \n",
       "99          M4Y  Downtown Toronto   \n",
       "100         M7Y      East Toronto   \n",
       "101         M8Y         Etobicoke   \n",
       "102         M8Z         Etobicoke   \n",
       "\n",
       "                                          Neighborhood  \n",
       "0                                            Parkwoods  \n",
       "1                                     Victoria Village  \n",
       "2                           Regent Park / Harbourfront  \n",
       "3                    Lawrence Manor / Lawrence Heights  \n",
       "4         Queen's Park / Ontario Provincial Government  \n",
       "..                                                 ...  \n",
       "98     The Kingsway / Montgomery Road / Old Mill North  \n",
       "99                                Church and Wellesley  \n",
       "100              Business reply mail Processing CentrE  \n",
       "101  Old Mill South / King's Mill Park / Sunnylea /...  \n",
       "102  Mimico NW / The Queensway West / South of Bloo...  \n",
       "\n",
       "[103 rows x 3 columns]"
      ]
     },
     "execution_count": 31,
     "metadata": {},
     "output_type": "execute_result"
    }
   ],
   "source": [
    "data"
   ]
  },
  {
   "cell_type": "code",
   "execution_count": 26,
   "metadata": {},
   "outputs": [
    {
     "data": {
      "text/plain": [
       "['Parkwoods',\n",
       " 'Victoria Village',\n",
       " 'Regent Park, Harbourfront',\n",
       " 'Lawrence Manor, Lawrence Heights',\n",
       " \"Queen's Park, Ontario Provincial Government\",\n",
       " 'Islington Avenue',\n",
       " 'Malvern, Rouge',\n",
       " 'Don Mills',\n",
       " 'Parkview Hill, Woodbine Gardens',\n",
       " 'Garden District, Ryerson',\n",
       " 'Glencairn',\n",
       " 'West Deane Park, Princess Gardens, Martin Grove, Islington, Cloverdale',\n",
       " 'Rouge Hill, Port Union, Highland Creek',\n",
       " 'Don Mills',\n",
       " 'Woodbine Heights',\n",
       " 'St. James Town',\n",
       " 'Humewood-Cedarvale',\n",
       " 'Eringate, Bloordale Gardens, Old Burnhamthorpe, Markland Wood',\n",
       " 'Guildwood, Morningside, West Hill',\n",
       " 'The Beaches',\n",
       " 'Berczy Park',\n",
       " 'Caledonia-Fairbanks',\n",
       " 'Woburn',\n",
       " 'Leaside',\n",
       " 'Central Bay Street',\n",
       " 'Christie',\n",
       " 'Cedarbrae',\n",
       " 'Hillcrest Village',\n",
       " 'Bathurst Manor, Wilson Heights, Downsview North',\n",
       " 'Thorncliffe Park',\n",
       " 'Richmond, Adelaide, King',\n",
       " 'Dufferin, Dovercourt Village',\n",
       " 'Scarborough Village',\n",
       " 'Fairview, Henry Farm, Oriole',\n",
       " 'Northwood Park, York University',\n",
       " 'East Toronto',\n",
       " 'Harbourfront East, Union Station, Toronto Islands',\n",
       " 'Little Portugal, Trinity',\n",
       " 'Kennedy Park, Ionview, East Birchmount Park',\n",
       " 'Bayview Village',\n",
       " 'Downsview',\n",
       " 'The Danforth West, Riverdale',\n",
       " 'Toronto Dominion Centre, Design Exchange',\n",
       " 'Brockton, Parkdale Village, Exhibition Place',\n",
       " 'Golden Mile, Clairlea, Oakridge',\n",
       " 'York Mills, Silver Hills',\n",
       " 'Downsview',\n",
       " 'India Bazaar, The Beaches West',\n",
       " 'Commerce Court, Victoria Hotel',\n",
       " 'North Park, Maple Leaf Park, Upwood Park',\n",
       " 'Humber Summit',\n",
       " 'Cliffside, Cliffcrest, Scarborough Village West',\n",
       " 'Willowdale, Newtonbrook',\n",
       " 'Downsview',\n",
       " 'Studio District',\n",
       " 'Bedford Park, Lawrence Manor East',\n",
       " 'Del Ray, Mount Dennis, Keelsdale and Silverthorn',\n",
       " 'Humberlea, Emery',\n",
       " 'Birch Cliff, Cliffside West',\n",
       " 'Willowdale',\n",
       " 'Downsview',\n",
       " 'Lawrence Park',\n",
       " 'Roselawn',\n",
       " 'Runnymede, The Junction North',\n",
       " 'Weston',\n",
       " 'Dorset Park, Wexford Heights, Scarborough Town Centre',\n",
       " 'York Mills West',\n",
       " 'Davisville North',\n",
       " 'Forest Hill North & West',\n",
       " 'High Park, The Junction South',\n",
       " 'Westmount',\n",
       " 'Wexford, Maryvale',\n",
       " 'Willowdale',\n",
       " 'North Toronto West',\n",
       " 'The Annex, North Midtown, Yorkville',\n",
       " 'Parkdale, Roncesvalles',\n",
       " 'Canada Post Gateway Processing Centre',\n",
       " 'Kingsview Village, St. Phillips, Martin Grove Gardens, Richview Gardens',\n",
       " 'Agincourt',\n",
       " 'Davisville',\n",
       " 'University of Toronto, Harbord',\n",
       " 'Runnymede, Swansea',\n",
       " \"Clarks Corners, Tam O'Shanter, Sullivan\",\n",
       " 'Moore Park, Summerhill East',\n",
       " 'Kensington Market, Chinatown, Grange Park',\n",
       " \"Milliken, Agincourt North, Steeles East, L'Amoreaux East\",\n",
       " 'Summerhill West, Rathnelly, South Hill, Forest Hill SE, Deer Park',\n",
       " 'CN Tower, King and Spadina, Railway Lands, Harbourfront West, Bathurst Quay, South Niagara, Island airport',\n",
       " 'New Toronto, Mimico South, Humber Bay Shores',\n",
       " 'South Steeles, Silverstone, Humbergate, Jamestown, Mount Olive, Beaumond Heights, Thistletown, Albion Gardens',\n",
       " \"Steeles West, L'Amoreaux West\",\n",
       " 'Rosedale',\n",
       " 'Stn A PO Boxes',\n",
       " 'Alderwood, Long Branch',\n",
       " 'Northwest',\n",
       " 'Upper Rouge',\n",
       " 'St. James Town, Cabbagetown',\n",
       " 'First Canadian Place, Underground city',\n",
       " 'The Kingsway, Montgomery Road, Old Mill North',\n",
       " 'Church and Wellesley',\n",
       " 'Business reply mail Processing CentrE',\n",
       " \"Old Mill South, King's Mill Park, Sunnylea, Humber Bay, Mimico NE, The Queensway East, Royal York South East, Kingsway Park South East\",\n",
       " 'Mimico NW, The Queensway West, South of Bloor, Kingsway Park South West, Royal York South West']"
      ]
     },
     "execution_count": 26,
     "metadata": {},
     "output_type": "execute_result"
    }
   ],
   "source": [
    "res"
   ]
  },
  {
   "cell_type": "code",
   "execution_count": 17,
   "metadata": {},
   "outputs": [
    {
     "data": {
      "text/plain": [
       "103"
      ]
     },
     "execution_count": 17,
     "metadata": {},
     "output_type": "execute_result"
    }
   ],
   "source": []
  }
 ],
 "metadata": {
  "kernelspec": {
   "display_name": "Python 3",
   "language": "python",
   "name": "python3"
  },
  "language_info": {
   "codemirror_mode": {
    "name": "ipython",
    "version": 3
   },
   "file_extension": ".py",
   "mimetype": "text/x-python",
   "name": "python",
   "nbconvert_exporter": "python",
   "pygments_lexer": "ipython3",
   "version": "3.7.1"
  }
 },
 "nbformat": 4,
 "nbformat_minor": 2
}
